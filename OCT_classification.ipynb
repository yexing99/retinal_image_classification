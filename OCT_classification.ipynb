{
 "cells": [
  {
   "cell_type": "code",
   "execution_count": 53,
   "metadata": {},
   "outputs": [],
   "source": [
    "\n",
    "# Copyright (C) Microsoft Corporation. All rights reserved.\n",
    "\n",
    "# Licensed under the MIT License. See LICENSE in the project root for\n",
    "\n",
    "# information.\n"
   ]
  },
  {
   "cell_type": "code",
   "execution_count": 54,
   "metadata": {},
   "outputs": [],
   "source": [
    "from cvtk import Dataset\n",
    "from cvtk import Splitter\n",
    "from cvtk import DNNModel, TransferLearningModel\n",
    "from cvtk import (ClassificationDataset, CNTKTLModel, Context, Splitter, StorageContext)\n",
    "from cvtk.augmentation import augment_dataset\n",
    "from cvtk.evaluation import ClassificationEvaluation\n",
    "from cntk import softmax\n",
    "import cvtk\n",
    "import cntk\n",
    "import os, sys, shutil, json\n",
    "import glob\n",
    "import pandas as pd\n",
    "from imgaug import augmenters\n",
    "import numpy as np\n",
    "from IPython.display import display\n",
    "from cvtk import Context"
   ]
  },
  {
   "cell_type": "markdown",
   "metadata": {},
   "source": [
    "### Load training dataset"
   ]
  },
  {
   "cell_type": "code",
   "execution_count": 55,
   "metadata": {},
   "outputs": [
    {
     "name": "stdout",
     "output_type": "stream",
     "text": [
      "F1 2018-05-16 18:42:29,526 INFO Dataset name CNV\n",
      "F1 2018-05-16 18:42:29,527 INFO Dataset location C:\\OCT\\OCT2017\\OCT2017\\train\n",
      "F1 2018-05-16 18:42:29,530 INFO azureml.vision:dataset creating dataset for scenario=classification \n"
     ]
    }
   ],
   "source": [
    "dataset_name = 'CNV' \n",
    "dataset_dir='C:\\\\OCT\\\\OCT2017\\\\OCT2017\\\\train'\n",
    "dataset_train =ClassificationDataset.create_from_dir(dataset_name, dataset_dir)"
   ]
  },
  {
   "cell_type": "code",
   "execution_count": 56,
   "metadata": {},
   "outputs": [
    {
     "name": "stdout",
     "output_type": "stream",
     "text": [
      "Training Dataset consists of 83484 images with 4 labels.\n",
      "Information for training image 2:\n",
      " [<Label(name = CNV)>, <Label(name = DME)>, <Label(name = DRUSEN)>, <Label(name = NORMAL)>]\n"
     ]
    }
   ],
   "source": [
    "print(\"Training Dataset consists of {} images with {} labels.\".format(len(dataset_train.images), len(dataset_train.labels)))\n",
    "print(\"Information for training image 2:\\n {}\".format(dataset_train.labels))"
   ]
  },
  {
   "cell_type": "markdown",
   "metadata": {},
   "source": [
    "### Split training data"
   ]
  },
  {
   "cell_type": "code",
   "execution_count": 57,
   "metadata": {},
   "outputs": [
    {
     "name": "stdout",
     "output_type": "stream",
     "text": [
      "F1 2018-05-16 18:43:14,669 INFO azureml.vision:splitter splitting a dataset \n",
      "F1 2018-05-16 18:43:44,314 INFO azureml.vision:dataset creating dataset for scenario=classification \n",
      "F1 2018-05-16 18:43:45,130 INFO azureml.vision:dataset creating dataset for scenario=classification \n",
      "F1 2018-05-16 18:43:45,339 INFO Train set size 66787\n",
      "F1 2018-05-16 18:43:45,341 INFO Test set size 16697\n",
      "Number of training images = 66787, test images = 16697.\n"
     ]
    }
   ],
   "source": [
    "splitter = cvtk.Splitter(dataset_train)\n",
    "trainSet, evalSet = splitter.split(0.80)\n",
    "print(\"Number of training images = {}, test images = {}.\".format(trainSet.size(), evalSet.size()))"
   ]
  },
  {
   "cell_type": "markdown",
   "metadata": {},
   "source": [
    "### Model definition"
   ]
  },
  {
   "cell_type": "code",
   "execution_count": 58,
   "metadata": {},
   "outputs": [
    {
     "name": "stdout",
     "output_type": "stream",
     "text": [
      "F1 2018-05-16 18:43:45,792 INFO Base model name ResNet50_ImageNet_CNTK\n",
      "Model state: untrained\n",
      "Model name: ResNet50_ImageNet_CNTK\n"
     ]
    }
   ],
   "source": [
    "output_aml='C:\\\\CVTK\\\\OCT_output'\n",
    "#Model\n",
    "nrClasses = len(trainSet.labels)\n",
    "class_map = {i:l.name for i,l in enumerate(dataset_train.labels)} \n",
    "base_model_name = 'ResNet50_ImageNet_CNTK'\n",
    "mymodel = CNTKTLModel(trainSet.labels,\n",
    "                                class_map   = class_map,\n",
    "                                base_model_name = base_model_name, \n",
    "                                output_path = output_aml,\n",
    "                                image_dims=(3, 224, 224),\n",
    "                                num_conv_layers_freeze=0) \n",
    "\n",
    "print(\"Model state: {}\".format(mymodel.model_state))\n",
    "print(\"Model name: {}\".format(mymodel.base_model_name))\n"
   ]
  },
  {
   "cell_type": "markdown",
   "metadata": {},
   "source": [
    "### Start training"
   ]
  },
  {
   "cell_type": "code",
   "execution_count": 59,
   "metadata": {},
   "outputs": [
    {
     "name": "stdout",
     "output_type": "stream",
     "text": [
      "Training locally...\n",
      "F1 2018-05-16 18:43:47,287 INFO Number of training epochs 2\n",
      "F1 2018-05-16 18:43:47,288 INFO Minibatch size 16\n",
      "F1 2018-05-16 18:43:47,291 INFO azureml.vision:Fit starting in experiment  284121010 \n",
      "F1 2018-05-16 18:43:47,295 INFO azureml.vision:model starting training for scenario=classification \n",
      "<class 'int'>\n",
      "1 worker\n",
      "Training transfer learning model for 2 epochs (epoch_size = 66787).\n",
      "non-distributed mode\n",
      "Training 23516228 parameters in 161 parameter tensors.\n",
      "Training 23516228 parameters in 161 parameter tensors.\n",
      "Learning rate per minibatch: 0.01\n",
      "Momentum per minibatch: 0.9\n",
      "PROGRESS: 0.00%\n",
      "PROGRESS: 0.00%\n",
      " Minibatch[   1- 100]: loss = 0.772148 * 1600, metric = 28.06% * 1600;\n",
      " Minibatch[ 101- 200]: loss = 0.424842 * 1600, metric = 13.50% * 1600;\n",
      "PROGRESS: 0.00%\n",
      " Minibatch[ 201- 300]: loss = 0.329084 * 1600, metric = 10.69% * 1600;\n",
      "PROGRESS: 0.00%\n",
      " Minibatch[ 301- 400]: loss = 0.260898 * 1600, metric = 8.62% * 1600;\n",
      " Minibatch[ 401- 500]: loss = 0.286111 * 1600, metric = 9.50% * 1600;\n",
      "PROGRESS: 0.00%\n",
      " Minibatch[ 501- 600]: loss = 0.233876 * 1600, metric = 7.62% * 1600;\n",
      "PROGRESS: 0.00%\n",
      " Minibatch[ 601- 700]: loss = 0.218505 * 1600, metric = 7.00% * 1600;\n",
      "PROGRESS: 0.00%\n",
      " Minibatch[ 701- 800]: loss = 0.202832 * 1600, metric = 6.25% * 1600;\n",
      " Minibatch[ 801- 900]: loss = 0.221391 * 1600, metric = 7.19% * 1600;\n",
      "PROGRESS: 0.00%\n",
      " Minibatch[ 901-1000]: loss = 0.193080 * 1600, metric = 6.75% * 1600;\n",
      "PROGRESS: 0.00%\n",
      " Minibatch[1001-1100]: loss = 0.195900 * 1600, metric = 6.56% * 1600;\n",
      "PROGRESS: 0.00%\n",
      " Minibatch[1101-1200]: loss = 0.184276 * 1600, metric = 6.31% * 1600;\n",
      " Minibatch[1201-1300]: loss = 0.184583 * 1600, metric = 6.31% * 1600;\n",
      "PROGRESS: 0.00%\n",
      " Minibatch[1301-1400]: loss = 0.196402 * 1600, metric = 6.75% * 1600;\n",
      "PROGRESS: 0.00%\n",
      " Minibatch[1401-1500]: loss = 0.176972 * 1600, metric = 5.19% * 1600;\n",
      "PROGRESS: 0.00%\n",
      " Minibatch[1501-1600]: loss = 0.166382 * 1600, metric = 5.56% * 1600;\n",
      " Minibatch[1601-1700]: loss = 0.172639 * 1600, metric = 6.12% * 1600;\n",
      "PROGRESS: 0.00%\n",
      " Minibatch[1701-1800]: loss = 0.138783 * 1600, metric = 4.75% * 1600;\n",
      "PROGRESS: 0.00%\n",
      " Minibatch[1801-1900]: loss = 0.178377 * 1600, metric = 5.19% * 1600;\n",
      "PROGRESS: 0.00%\n",
      " Minibatch[1901-2000]: loss = 0.156104 * 1600, metric = 5.44% * 1600;\n",
      " Minibatch[2001-2100]: loss = 0.158491 * 1600, metric = 5.50% * 1600;\n",
      "PROGRESS: 0.00%\n",
      " Minibatch[2101-2200]: loss = 0.125424 * 1600, metric = 4.56% * 1600;\n",
      "PROGRESS: 0.00%\n",
      " Minibatch[2201-2300]: loss = 0.140071 * 1600, metric = 4.38% * 1600;\n",
      "PROGRESS: 0.00%\n",
      " Minibatch[2301-2400]: loss = 0.159438 * 1600, metric = 4.75% * 1600;\n",
      " Minibatch[2401-2500]: loss = 0.145969 * 1600, metric = 4.56% * 1600;\n",
      "PROGRESS: 0.00%\n",
      " Minibatch[2501-2600]: loss = 0.145544 * 1600, metric = 4.88% * 1600;\n",
      "PROGRESS: 0.00%\n",
      " Minibatch[2601-2700]: loss = 0.141982 * 1600, metric = 5.12% * 1600;\n",
      "PROGRESS: 0.00%\n",
      " Minibatch[2701-2800]: loss = 0.164828 * 1600, metric = 5.00% * 1600;\n",
      " Minibatch[2801-2900]: loss = 0.148091 * 1600, metric = 5.38% * 1600;\n",
      "PROGRESS: 0.00%\n",
      " Minibatch[2901-3000]: loss = 0.134504 * 1600, metric = 4.19% * 1600;\n",
      "PROGRESS: 0.00%\n",
      " Minibatch[3001-3100]: loss = 0.124264 * 1600, metric = 4.06% * 1600;\n",
      "PROGRESS: 0.00%\n",
      " Minibatch[3101-3200]: loss = 0.153931 * 1600, metric = 5.81% * 1600;\n",
      " Minibatch[3201-3300]: loss = 0.156612 * 1600, metric = 4.75% * 1600;\n",
      "PROGRESS: 0.00%\n",
      " Minibatch[3301-3400]: loss = 0.126081 * 1600, metric = 4.19% * 1600;\n",
      "PROGRESS: 0.00%\n",
      " Minibatch[3401-3500]: loss = 0.158485 * 1600, metric = 4.94% * 1600;\n",
      "PROGRESS: 0.00%\n",
      " Minibatch[3501-3600]: loss = 0.134161 * 1600, metric = 5.00% * 1600;\n",
      " Minibatch[3601-3700]: loss = 0.134227 * 1600, metric = 4.44% * 1600;\n",
      "PROGRESS: 0.00%\n",
      " Minibatch[3701-3800]: loss = 0.135613 * 1600, metric = 4.44% * 1600;\n",
      "PROGRESS: 0.00%\n",
      " Minibatch[3801-3900]: loss = 0.099061 * 1600, metric = 3.12% * 1600;\n",
      " Minibatch[3901-4000]: loss = 0.140797 * 1600, metric = 5.38% * 1600;\n",
      "PROGRESS: 0.00%\n",
      " Minibatch[4001-4100]: loss = 0.124468 * 1600, metric = 4.19% * 1600;\n",
      "PROGRESS: 0.00%\n",
      "Finished Epoch[1 of 2]: [Training] loss = 0.190033 * 66787, metric = 6.35% * 66787 314.388s (212.4 samples/s);\n",
      " Minibatch[4101-4200]: loss = 0.116141 * 1587, metric = 4.16% * 1587;\n",
      "PROGRESS: 0.00%\n",
      " Minibatch[4201-4300]: loss = 0.110912 * 1600, metric = 3.81% * 1600;\n",
      " Minibatch[4301-4400]: loss = 0.118382 * 1600, metric = 3.94% * 1600;\n",
      "PROGRESS: 0.00%\n",
      " Minibatch[4401-4500]: loss = 0.083333 * 1600, metric = 2.75% * 1600;\n",
      "PROGRESS: 0.00%\n",
      " Minibatch[4501-4600]: loss = 0.117728 * 1600, metric = 3.94% * 1600;\n",
      "PROGRESS: 0.00%\n",
      " Minibatch[4601-4700]: loss = 0.095687 * 1600, metric = 3.81% * 1600;\n",
      " Minibatch[4701-4800]: loss = 0.091322 * 1600, metric = 3.00% * 1600;\n",
      "PROGRESS: 0.00%\n",
      " Minibatch[4801-4900]: loss = 0.079684 * 1600, metric = 2.44% * 1600;\n",
      "PROGRESS: 0.00%\n",
      " Minibatch[4901-5000]: loss = 0.121075 * 1600, metric = 4.56% * 1600;\n",
      "PROGRESS: 0.00%\n",
      " Minibatch[5001-5100]: loss = 0.104533 * 1600, metric = 3.56% * 1600;\n",
      " Minibatch[5101-5200]: loss = 0.112085 * 1600, metric = 3.56% * 1600;\n",
      "PROGRESS: 0.00%\n",
      " Minibatch[5201-5300]: loss = 0.098881 * 1600, metric = 3.44% * 1600;\n",
      "PROGRESS: 0.00%\n",
      " Minibatch[5301-5400]: loss = 0.098879 * 1600, metric = 3.19% * 1600;\n",
      "PROGRESS: 0.00%\n",
      " Minibatch[5401-5500]: loss = 0.107055 * 1600, metric = 3.38% * 1600;\n",
      " Minibatch[5501-5600]: loss = 0.124944 * 1600, metric = 4.06% * 1600;\n",
      "PROGRESS: 0.00%\n",
      " Minibatch[5601-5700]: loss = 0.096238 * 1600, metric = 2.88% * 1600;\n",
      "PROGRESS: 0.00%\n",
      " Minibatch[5701-5800]: loss = 0.115371 * 1600, metric = 3.62% * 1600;\n",
      "PROGRESS: 0.00%\n",
      " Minibatch[5801-5900]: loss = 0.082818 * 1600, metric = 2.69% * 1600;\n",
      " Minibatch[5901-6000]: loss = 0.103432 * 1600, metric = 3.31% * 1600;\n",
      "PROGRESS: 0.00%\n",
      " Minibatch[6001-6100]: loss = 0.091226 * 1600, metric = 3.12% * 1600;\n",
      "PROGRESS: 0.00%\n",
      " Minibatch[6101-6200]: loss = 0.106599 * 1600, metric = 3.94% * 1600;\n",
      "PROGRESS: 0.00%\n",
      " Minibatch[6201-6300]: loss = 0.109844 * 1600, metric = 3.69% * 1600;\n",
      " Minibatch[6301-6400]: loss = 0.114507 * 1600, metric = 4.25% * 1600;\n",
      "PROGRESS: 0.00%\n",
      " Minibatch[6401-6500]: loss = 0.118916 * 1600, metric = 4.12% * 1600;\n",
      "PROGRESS: 0.00%\n",
      " Minibatch[6501-6600]: loss = 0.112020 * 1600, metric = 4.25% * 1600;\n",
      "PROGRESS: 0.00%\n",
      " Minibatch[6601-6700]: loss = 0.094701 * 1600, metric = 2.75% * 1600;\n",
      " Minibatch[6701-6800]: loss = 0.101376 * 1600, metric = 3.81% * 1600;\n",
      "PROGRESS: 0.00%\n",
      " Minibatch[6801-6900]: loss = 0.091598 * 1600, metric = 3.44% * 1600;\n",
      "PROGRESS: 0.00%\n",
      " Minibatch[6901-7000]: loss = 0.114421 * 1600, metric = 3.56% * 1600;\n",
      " Minibatch[7001-7100]: loss = 0.131584 * 1600, metric = 4.50% * 1600;\n",
      "PROGRESS: 0.00%\n",
      " Minibatch[7101-7200]: loss = 0.093546 * 1600, metric = 3.38% * 1600;\n",
      "PROGRESS: 0.00%\n",
      " Minibatch[7201-7300]: loss = 0.098771 * 1600, metric = 3.19% * 1600;\n",
      "PROGRESS: 0.00%\n",
      " Minibatch[7301-7400]: loss = 0.099464 * 1600, metric = 3.44% * 1600;\n",
      " Minibatch[7401-7500]: loss = 0.098418 * 1600, metric = 3.19% * 1600;\n",
      "PROGRESS: 0.00%\n",
      " Minibatch[7501-7600]: loss = 0.127345 * 1600, metric = 4.19% * 1600;\n",
      "PROGRESS: 0.00%\n",
      " Minibatch[7601-7700]: loss = 0.127625 * 1600, metric = 4.62% * 1600;\n",
      "PROGRESS: 0.00%\n",
      " Minibatch[7701-7800]: loss = 0.086636 * 1600, metric = 2.88% * 1600;\n",
      " Minibatch[7801-7900]: loss = 0.102534 * 1600, metric = 3.62% * 1600;\n",
      "PROGRESS: 0.00%\n",
      " Minibatch[7901-8000]: loss = 0.123726 * 1600, metric = 4.12% * 1600;\n",
      "PROGRESS: 0.00%\n",
      " Minibatch[8001-8100]: loss = 0.100360 * 1600, metric = 3.62% * 1600;\n",
      "PROGRESS: 0.00%\n",
      " Minibatch[8101-8200]: loss = 0.095106 * 1600, metric = 3.56% * 1600;\n",
      " Minibatch[8201-8300]: loss = 0.099037 * 1600, metric = 3.31% * 1600;\n",
      "PROGRESS: 0.00%\n",
      "Finished Epoch[2 of 2]: [Training] loss = 0.104809 * 66787, metric = 3.56% * 66787 311.580s (214.3 samples/s);\n",
      "Stored trained model at C:\\CVTK\\OCT_output\\ImageClassification.model\n",
      "F1 2018-05-16 18:54:14,920 INFO azureml.vision:Fit finished in experiment  284121010 \n"
     ]
    }
   ],
   "source": [
    "print(\"Training locally...\")\n",
    "\n",
    "lr_per_mb = [0.01] * 7+ [0.001] * 7 + [0.0001]\n",
    "num_epochs = 2\n",
    "l2_reg_weight=0.005\n",
    "mb_size = 16\n",
    "\n",
    "t = mymodel.train( trainSet,  \n",
    "                    lr_per_mb = lr_per_mb , \n",
    "                    num_epochs = num_epochs,\n",
    "                    l2_reg_weight=l2_reg_weight,\n",
    "                    mb_size = mb_size)"
   ]
  },
  {
   "cell_type": "markdown",
   "metadata": {},
   "source": [
    "###  Log hyperparameters"
   ]
  },
  {
   "cell_type": "code",
   "execution_count": 60,
   "metadata": {},
   "outputs": [
    {
     "data": {
      "text/plain": [
       "<azureml.logging.script_run_request.ScriptRunRequest at 0x2695be4e2b0>"
      ]
     },
     "execution_count": 60,
     "metadata": {},
     "output_type": "execute_result"
    }
   ],
   "source": [
    "from azureml.logging import get_azureml_logger\n",
    "logger = get_azureml_logger()\n",
    "logger.log(\"step\",\"training\")\n",
    "logger.log(\"number of epochs\",num_epochs)\n",
    "logger.log(\"L2 reg weight\",l2_reg_weight)\n",
    "logger.log(\"mini_batch size\",mb_size)\n",
    "logger.log(\"learning rate\",lr_per_mb)\n",
    "logger.log(\"learning rate\",lr_per_mb,mb_size)"
   ]
  },
  {
   "cell_type": "markdown",
   "metadata": {},
   "source": [
    "### Evaluate model on evaluation set"
   ]
  },
  {
   "cell_type": "code",
   "execution_count": 61,
   "metadata": {
    "scrolled": true
   },
   "outputs": [
    {
     "name": "stdout",
     "output_type": "stream",
     "text": [
      "F1 2018-05-16 18:54:15,286 INFO azureml.vision:evaluation doing evaluation for scenario=classification \n",
      "F1 2018-05-16 18:54:15,288 INFO azureml.vision:model scoring dataset for scenario=classification \n",
      "F1 2018-05-16 18:54:46,470 INFO Accuracy 0.9811343355093729\n",
      "Accuracy = 0.9811343355093729\n",
      "Confusion matrix = [[7168   39  209   25]\n",
      " [  44 2136    9   81]\n",
      " [  83    6 1554   80]\n",
      " [   3   19   32 5209]]\n",
      "F1 2018-05-16 18:54:46,539 INFO Precision curve [0.32346617 0.32345306 0.32345933 ... 1.         1.         1.        ]\n",
      "F1 2018-05-16 18:54:48,029 INFO Recall curve [1.00000000e+00 9.99940109e-01 9.99940109e-01 ... 1.19781997e-04\n",
      " 5.98909984e-05 0.00000000e+00]\n",
      "len(precisions) = 50597, min = 0.3234530590104227, max = 1.0\n",
      "len(recalls) = 50597, min = 0.0, max = 1.0\n",
      "len(thresholds) = 50596\n"
     ]
    },
    {
     "data": {
      "text/plain": [
       "<azureml.logging.script_run_request.ScriptRunRequest at 0x26964e1a2e8>"
      ]
     },
     "execution_count": 61,
     "metadata": {},
     "output_type": "execute_result"
    }
   ],
   "source": [
    "# Set if want to evaluate accuracy on e.g. testSet or trainSet\n",
    "testMinibatchSize = 64\n",
    "\n",
    "ce = ClassificationEvaluation(mymodel, evalSet, minibatch_size = testMinibatchSize)\n",
    "\n",
    "# Compute Accuracy, confusion matrix, and pr curve\n",
    "acc = ce.compute_accuracy()\n",
    "print(\"Accuracy = {}\".format(acc))\n",
    "cm  = ce.compute_confusion_matrix()\n",
    "print(\"Confusion matrix = {}\".format(cm))\n",
    "precisions, recalls, thresholds = ce.compute_precision_recall_curve() \n",
    "\n",
    "\n",
    "print(\"len(precisions) = {}, min = {}, max = {}\".format(len(precisions), min(precisions), max(precisions)))\n",
    "print(\"len(recalls) = {}, min = {}, max = {}\".format(len(recalls), min(recalls), max(recalls)))\n",
    "print(\"len(thresholds) = \" + str(len(thresholds)))\n",
    "\n",
    "# Get classification on evaluation dataset\n",
    "\n",
    "scores_val = ce.scores\n",
    "logger.log(\"step\",\"training\")\n",
    "logger.log(\"accuracy\",acc)\n",
    "logger.log(\"max precisions\", max(precisions))\n",
    "logger.log(\"recall\",recalls)\n",
    "logger.log(\"thresholds\",thresholds)"
   ]
  },
  {
   "cell_type": "markdown",
   "metadata": {},
   "source": [
    "### Evaluate model on test set"
   ]
  },
  {
   "cell_type": "code",
   "execution_count": 62,
   "metadata": {},
   "outputs": [
    {
     "name": "stdout",
     "output_type": "stream",
     "text": [
      "F1 2018-05-16 18:54:52,651 INFO Dataset name CNV\n",
      "F1 2018-05-16 18:54:52,653 INFO Dataset location C:\\OCT\\OCT2017\\OCT2017\\test\n",
      "F1 2018-05-16 18:54:52,656 INFO azureml.vision:dataset creating dataset for scenario=classification \n",
      "Testing Dataset consists of 1000 images.\n",
      "Information for test image 2:\n",
      " [<Label(name = CNV)>, <Label(name = DME)>, <Label(name = DRUSEN)>, <Label(name = NORMAL)>]\n"
     ]
    }
   ],
   "source": [
    "##load test dataset and compare results\n",
    "testset_dir='C:\\\\OCT\\\\OCT2017\\\\OCT2017\\\\test'\n",
    "dataset_test = ClassificationDataset.create_from_dir(dataset_name, testset_dir)\n",
    "print(\"Testing Dataset consists of {} images.\".format(len(dataset_test.images)))\n",
    "print(\"Information for test image 2:\\n {}\".format(dataset_test.labels))"
   ]
  },
  {
   "cell_type": "code",
   "execution_count": 63,
   "metadata": {
    "scrolled": true
   },
   "outputs": [
    {
     "name": "stdout",
     "output_type": "stream",
     "text": [
      "F1 2018-05-16 18:54:54,092 INFO azureml.vision:evaluation doing evaluation for scenario=classification \n",
      "F1 2018-05-16 18:54:54,094 INFO azureml.vision:model scoring dataset for scenario=classification \n",
      "F1 2018-05-16 18:54:57,824 INFO Accuracy 0.9984999999999999\n",
      "Accuracy = 0.9984999999999999\n",
      "Confusion matrix = [[250   0   0   0]\n",
      " [  1 249   0   0]\n",
      " [  2   0 248   0]\n",
      " [  0   0   0 250]]\n",
      "F1 2018-05-16 18:54:57,834 INFO Precision curve [0.98522167 0.9852071  0.98617966 ... 1.         1.         1.        ]\n",
      "F1 2018-05-16 18:54:57,865 INFO Recall curve [1.    0.999 0.999 ... 0.002 0.001 0.   ]\n"
     ]
    }
   ],
   "source": [
    "ce = ClassificationEvaluation(mymodel, dataset_test, minibatch_size = testMinibatchSize, add_softmax=True)\n",
    "acc = ce.compute_accuracy()\n",
    "print(\"Accuracy = {}\".format(acc))\n",
    "cm  = ce.compute_confusion_matrix()\n",
    "print(\"Confusion matrix = {}\".format(cm))\n",
    "precisions, recalls, thresholds = ce.compute_precision_recall_curve() \n"
   ]
  },
  {
   "cell_type": "code",
   "execution_count": 64,
   "metadata": {},
   "outputs": [
    {
     "data": {
      "text/plain": [
       "{'CNV', 'DME', 'DRUSEN', 'NORMAL'}"
      ]
     },
     "execution_count": 64,
     "metadata": {},
     "output_type": "execute_result"
    }
   ],
   "source": [
    "ce.classes"
   ]
  },
  {
   "cell_type": "markdown",
   "metadata": {},
   "source": [
    "### Log result"
   ]
  },
  {
   "cell_type": "code",
   "execution_count": 65,
   "metadata": {},
   "outputs": [
    {
     "data": {
      "text/plain": [
       "<azureml.logging.script_run_request.ScriptRunRequest at 0x269647f5b70>"
      ]
     },
     "execution_count": 65,
     "metadata": {},
     "output_type": "execute_result"
    }
   ],
   "source": [
    "scores_val = ce.scores\n",
    "logger.log(\"step\",\"testing\")\n",
    "logger.log(\"accuracy\",acc)\n",
    "logger.log(\"max precisions\", max(precisions))\n",
    "logger.log(\"recall\",recalls)\n",
    "logger.log(\"thresholds\",thresholds)"
   ]
  }
 ],
 "metadata": {
  "kernelspec": {
   "display_name": "OCT_Nvidia2 local",
   "language": "python",
   "name": "oct_nvidia2_local"
  },
  "language_info": {
   "codemirror_mode": {
    "name": "ipython",
    "version": 3
   },
   "file_extension": ".py",
   "mimetype": "text/x-python",
   "name": "python",
   "nbconvert_exporter": "python",
   "pygments_lexer": "ipython3",
   "version": "3.5.2"
  }
 },
 "nbformat": 4,
 "nbformat_minor": 2
}
